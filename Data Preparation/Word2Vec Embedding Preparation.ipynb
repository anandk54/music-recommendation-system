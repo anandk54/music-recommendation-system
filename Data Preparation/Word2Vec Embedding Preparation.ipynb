{
  "cells": [
    {
      "cell_type": "code",
      "execution_count": null,
      "metadata": {
        "id": "uCf_5ZD_xYmc"
      },
      "outputs": [],
      "source": [
        "from google.colab import drive\n",
        "drive.mount('/content/drive')"
      ]
    },
    {
      "cell_type": "markdown",
      "metadata": {},
      "source": [
        "## Word2Vec **Embeddings**"
      ]
    },
    {
      "cell_type": "code",
      "execution_count": null,
      "metadata": {
        "id": "N4_7CCj0xEYZ"
      },
      "outputs": [],
      "source": [
        "import numpy as np\n",
        "import pandas as pd\n",
        "import matplotlib.pyplot as plt\n",
        "import tensorflow as tf\n",
        "import pickle\n",
        "from gensim.models import Word2Vec"
      ]
    },
    {
      "cell_type": "markdown",
      "metadata": {},
      "source": [
        "Loading Dataset"
      ]
    },
    {
      "cell_type": "code",
      "execution_count": null,
      "metadata": {
        "id": "5PIB3UlXxKUW"
      },
      "outputs": [],
      "source": [
        "data1 = pickle.load(open('/content/drive/MyDrive/Minor Project/30music.pkl', 'rb'))"
      ]
    },
    {
      "cell_type": "code",
      "execution_count": null,
      "metadata": {
        "id": "U0s7uGQ9xMo2"
      },
      "outputs": [],
      "source": [
        "data1['Frequency'] = data1.groupby('UserId')['UserId'].transform('count')\n",
        "data1.sort_values('Frequency', inplace=True, ascending=False)"
      ]
    },
    {
      "cell_type": "code",
      "execution_count": null,
      "metadata": {
        "id": "LDpXrW8_xNQx"
      },
      "outputs": [],
      "source": [
        "data = data1[:6000]"
      ]
    },
    {
      "cell_type": "code",
      "execution_count": null,
      "metadata": {
        "id": "ReMyrzNYxpE6"
      },
      "outputs": [],
      "source": [
        "words = list(data['ItemId'].unique())"
      ]
    },
    {
      "cell_type": "code",
      "execution_count": null,
      "metadata": {
        "id": "7ov_jvpLxr2m"
      },
      "outputs": [],
      "source": [
        "def prepare_dataset(window, top_n, words, data):\n",
        "   \n",
        "    df = data.groupby(by=['SessionId'])\n",
        "    for s, d in df:\n",
        "        d = d.sort_values(by=['Time'])\n",
        "    \n",
        "    basket = []\n",
        "    next_song = []\n",
        "    for s, d in df:\n",
        "        words = list(d['ItemId'])\n",
        "        i = 1\n",
        "        j = top_n\n",
        "        m = window+top_n\n",
        "        if m > len(d):\n",
        "            m = len(d)\n",
        "        while j < m:\n",
        "            basket.append(words[0:i])\n",
        "            next_song.append(words[i:j])\n",
        "            i += 1\n",
        "            j += 1\n",
        "        for i in range(len(d)-window-top_n-1):\n",
        "            basket.append(words[i:i+window])\n",
        "            next_song.append(words[i+window:i+window+top_n])\n",
        "\n",
        "    return (basket, next_song)"
      ]
    },
    {
      "cell_type": "code",
      "execution_count": null,
      "metadata": {
        "id": "ZeBD2qgRDlZD"
      },
      "outputs": [],
      "source": [
        "def get_dataset(window, top_n, words, data, m, emb_length):\n",
        "    \n",
        "    (basket, next_song) = prepare_dataset(window, top_n, words, data)\n",
        "            \n",
        "    song_basket = np.zeros((len(basket), window, emb_length), dtype=np.int32)\n",
        "    recommended_song = np.zeros((len(next_song), top_n), dtype=np.int32)\n",
        "    for i, each_words in enumerate(basket):\n",
        "       for j, each_word in enumerate(each_words):\n",
        "          emb = m[each_word]\n",
        "          for k in range(emb_length):\n",
        "            song_basket[i, j, k] = emb[k]\n",
        "    \n",
        "    for i, top_songs in enumerate(next_song):\n",
        "        for j, song  in enumerate(top_songs):\n",
        "            recommended_song[i, j] = song\n",
        "    \n",
        "    return (song_basket, recommended_song)"
      ]
    },
    {
      "cell_type": "code",
      "execution_count": null,
      "metadata": {
        "id": "SqCVCpqqxrrF"
      },
      "outputs": [],
      "source": [
        "(basket, next_song) = prepare_dataset(5, 1, words, data)"
      ]
    },
    {
      "cell_type": "code",
      "execution_count": null,
      "metadata": {
        "id": "hymiZizexrfL"
      },
      "outputs": [],
      "source": [
        "lst = []\n",
        "for i in range(len(basket)):\n",
        "  lst.append(basket[i]+next_song[i])"
      ]
    },
    {
      "cell_type": "code",
      "execution_count": null,
      "metadata": {
        "id": "M2ONoi6SyH9x"
      },
      "outputs": [],
      "source": [
        "exc = []\n",
        "for w in words:\n",
        "  exc.append(w)\n",
        "  for l in lst:\n",
        "    if w in l:\n",
        "      exc.pop()\n",
        "      break"
      ]
    },
    {
      "cell_type": "code",
      "execution_count": null,
      "metadata": {
        "id": "bwz7F9WmyH6a"
      },
      "outputs": [],
      "source": [
        "lst.append(exc)"
      ]
    },
    {
      "cell_type": "markdown",
      "metadata": {},
      "source": [
        "Preparing Word2Vec Embeddings"
      ]
    },
    {
      "cell_type": "code",
      "execution_count": null,
      "metadata": {
        "id": "_YKXFEWTyH32"
      },
      "outputs": [],
      "source": [
        "model = Word2Vec(sentences=lst, min_count=1, vector_size=100)"
      ]
    },
    {
      "cell_type": "code",
      "execution_count": null,
      "metadata": {
        "id": "7UhquwbxyH1L"
      },
      "outputs": [],
      "source": [
        "m = {}\n",
        "x = list(words)\n",
        "for i, w in enumerate(x):\n",
        "  m[w] = model.wv.get_vector(w, norm=True)"
      ]
    },
    {
      "cell_type": "code",
      "execution_count": null,
      "metadata": {
        "id": "4HrYGtfHyUB8"
      },
      "outputs": [],
      "source": [
        "pickle.dump(m, open('/content/drive/MyDrive/Minor Project/w2v_embs_50.pkl', 'wb'))"
      ]
    },
    {
      "cell_type": "code",
      "execution_count": null,
      "metadata": {
        "id": "k05PTnsDDVOF"
      },
      "outputs": [],
      "source": [
        "(song_basket, recommended_song) = get_dataset(5, 1, words, data, m, 50)"
      ]
    },
    {
      "cell_type": "code",
      "execution_count": null,
      "metadata": {
        "id": "5Pg4kOF1EMvo"
      },
      "outputs": [],
      "source": [
        "pickle.dump(song_basket, open('/content/drive/MyDrive/Minor Project/song_basket_w2v_5_1_50.pkl', 'wb'))\n",
        "pickle.dump(recommended_song, open('/content/drive/MyDrive/Minor Project/recommended_song_w2v_5_1_50.pkl', 'wb'))"
      ]
    }
  ],
  "metadata": {
    "accelerator": "GPU",
    "colab": {
      "gpuType": "T4",
      "private_outputs": true,
      "provenance": []
    },
    "gpuClass": "standard",
    "kernelspec": {
      "display_name": "Python 3",
      "name": "python3"
    },
    "language_info": {
      "name": "python"
    }
  },
  "nbformat": 4,
  "nbformat_minor": 0
}
